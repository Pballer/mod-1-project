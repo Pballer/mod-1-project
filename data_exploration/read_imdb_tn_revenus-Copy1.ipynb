{
 "cells": [
  {
   "cell_type": "code",
   "execution_count": 4,
   "metadata": {},
   "outputs": [],
   "source": [
    "import pandas as pd\n",
    "import numpy as np\n",
    "import matplotlib.pyplot as plt\n",
    "import seaborn as sns\n",
    "%matplotlib notebook"
   ]
  },
  {
   "cell_type": "code",
   "execution_count": 5,
   "metadata": {},
   "outputs": [],
   "source": [
    "imdb_tn_genres_revenues = pd.read_pickle(\n",
    "    '../processed_data/imdb_tn_genres_revenues.pkl')"
   ]
  },
  {
   "cell_type": "code",
   "execution_count": 6,
   "metadata": {},
   "outputs": [
    {
     "name": "stdout",
     "output_type": "stream",
     "text": [
      "<class 'pandas.core.frame.DataFrame'>\n",
      "Int64Index: 1578 entries, 0 to 1523\n",
      "Data columns (total 19 columns):\n",
      "tconst               1578 non-null object\n",
      "primary_title        1578 non-null object\n",
      "original_title       1578 non-null object\n",
      "start_year           1578 non-null int64\n",
      "runtime_minutes      1552 non-null float64\n",
      "genres               1572 non-null object\n",
      "averagerating        1529 non-null float64\n",
      "numvotes             1529 non-null float64\n",
      "_merge               1578 non-null category\n",
      "id                   1578 non-null int64\n",
      "release_date         1578 non-null datetime64[ns]\n",
      "movie                1578 non-null object\n",
      "production_budget    1578 non-null int64\n",
      "domestic_gross       1578 non-null int64\n",
      "worldwide_gross      1578 non-null int64\n",
      "release_year         1578 non-null int64\n",
      "dom_roi              1578 non-null float64\n",
      "world_roi            1578 non-null float64\n",
      "main_genre           1572 non-null category\n",
      "dtypes: category(2), datetime64[ns](1), float64(5), int64(6), object(5)\n",
      "memory usage: 225.2+ KB\n"
     ]
    }
   ],
   "source": [
    "imdb_tn_genres_revenues.info()"
   ]
  },
  {
   "cell_type": "code",
   "execution_count": null,
   "metadata": {},
   "outputs": [],
   "source": []
  }
 ],
 "metadata": {
  "kernelspec": {
   "display_name": "Python 3",
   "language": "python",
   "name": "python3"
  },
  "language_info": {
   "codemirror_mode": {
    "name": "ipython",
    "version": 3
   },
   "file_extension": ".py",
   "mimetype": "text/x-python",
   "name": "python",
   "nbconvert_exporter": "python",
   "pygments_lexer": "ipython3",
   "version": "3.7.3"
  }
 },
 "nbformat": 4,
 "nbformat_minor": 2
}
