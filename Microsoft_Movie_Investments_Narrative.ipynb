{
 "cells": [
  {
   "cell_type": "markdown",
   "metadata": {},
   "source": [
    "# Microsoft Movie Investments \n",
    "\n",
    "## Summary\n",
    "Microsoft is entering the movie streaming business.  To break into this market, they will produce original content.  This will allow them to compete with Netflix and Amazon in this space.  Microsoft is interested in the performance of each genre to help them determine which type of movie they should produce."
   ]
  },
  {
   "cell_type": "markdown",
   "metadata": {},
   "source": [
    "## Contents\n",
    "- [Problem Statement](#Problem-Statement)\n",
    "- [Data Summary](#Data-Summary)\n",
    "- [Analysis](#Analysis)\n",
    "- [Actionable Insights](#Actionable-Insights)"
   ]
  },
  {
   "cell_type": "markdown",
   "metadata": {},
   "source": [
    "## Problem Statement\n",
    "Our goal is to identify the genre that will reach the largest audience while remaining profitable."
   ]
  },
  {
   "cell_type": "markdown",
   "metadata": {},
   "source": [
    "## Data Summary\n",
    "- Data Sources: \n",
    "    - [IMDB](https://www.imdb.com/interfaces/)\n",
    "    - [The-Numbers.com](https://www.the-numbers.com/movie/budgets/all)\n",
    "    - These two sources provide genre and revenue per movie.\n",
    "- Analyzed movies between 2010-2019.\n",
    "- Revenue summary of all genres.\n",
    "![revenue_summary](./visualizations/revenue_summary.png)\n",
    "- Summary of return on investment (ROI) for all genres.\n",
    "![roi_summary](./visualizations/roi_summary.png)"
   ]
  },
  {
   "cell_type": "markdown",
   "metadata": {},
   "source": [
    "## Analysis\n"
   ]
  },
  {
   "cell_type": "markdown",
   "metadata": {},
   "source": [
    "- We loaded genre and rating data from IMDB and joined it with revenue and production budgets from The Numbers.  Movies that have multiple genres were split into multiple rows.  This allowed us to account for all of the genres a movie is in.\n",
    "- Each genre was compared using boxplots and ordered by the highest .25 quartile of the feature being plotted.  This allowed us to visually compare each genre."
   ]
  },
  {
   "cell_type": "markdown",
   "metadata": {},
   "source": [
    "##### Domestic Gross Revenue (millions USD)\n",
    "![domestic_gross_boxplot](./visualizations/domestic_gross_boxplots.png)"
   ]
  },
  {
   "cell_type": "markdown",
   "metadata": {},
   "source": [
    "- Animation is a genre that has a high revenue.  This indicates that it will reach a large target audience."
   ]
  },
  {
   "cell_type": "markdown",
   "metadata": {},
   "source": [
    "##### Domestic ROI\n",
    "![domestic_roi_boxplot](./visualizations/domestic_roi_boxplots.png)"
   ]
  },
  {
   "cell_type": "markdown",
   "metadata": {},
   "source": [
    "- ROI confirms that animation is a good choice for making a profit.  Horror has a chance for greater returns, but has a higher risk of loosing money."
   ]
  },
  {
   "cell_type": "markdown",
   "metadata": {},
   "source": [
    "##### World Gross Revenue (millions USD)\n",
    "![world_gross_boxplot](./visualizations/world_gross_boxplots.png)"
   ]
  },
  {
   "cell_type": "markdown",
   "metadata": {},
   "source": [
    "##### Domestic ROI\n",
    "![world_roi_boxplot](./visualizations/world_roi_boxplots.png)"
   ]
  },
  {
   "cell_type": "markdown",
   "metadata": {},
   "source": [
    "##### Profitability of Multigenre Films\n",
    "![revenue_by_num_of_genres](./visualizations/revenue_by_num_of_genres.png)"
   ]
  },
  {
   "cell_type": "markdown",
   "metadata": {},
   "source": [
    "## Actionable Insights\n",
    "- To reach the largest audience we recommend producing Animation movies.\n",
    "- If the film does well domestically, release is worldwide.  \n",
    "- Animation has a high chance of making a positive ROI.<br>For for a low investment with a chance of high return, we recommend Horror genre.\n",
    "- Mixed genre films outperform single genre films.\n",
    " - animated-comedy\n",
    " - animated-adventure"
   ]
  },
  {
   "cell_type": "code",
   "execution_count": null,
   "metadata": {},
   "outputs": [],
   "source": [
    "- [ ] The purpose of your analysis and why it matters\n",
    "    - [ ] 4 well annotated visualizations created using Matplotlib/Seaborn\n",
    "    - [ ] 2 meaningful summary tables\n",
    "    - [ ] At least four actionable insights (\n",
    "        What type of films should they be looking to produce? \n",
    "                                             \n",
    "        What should the budget requirements be? \n",
    "        Should they recruit certain actors for their films?)"
   ]
  }
 ],
 "metadata": {
  "kernelspec": {
   "display_name": "Python [conda env:learn-env] *",
   "language": "python",
   "name": "conda-env-learn-env-py"
  },
  "language_info": {
   "codemirror_mode": {
    "name": "ipython",
    "version": 3
   },
   "file_extension": ".py",
   "mimetype": "text/x-python",
   "name": "python",
   "nbconvert_exporter": "python",
   "pygments_lexer": "ipython3",
   "version": "3.6.6"
  }
 },
 "nbformat": 4,
 "nbformat_minor": 2
}
